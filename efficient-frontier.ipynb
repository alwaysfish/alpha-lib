{
 "cells": [
  {
   "cell_type": "markdown",
   "metadata": {},
   "source": [
    "# Efficient Frontier"
   ]
  },
  {
   "cell_type": "markdown",
   "metadata": {},
   "source": [
    "## Two-Assets Efficient Frontier"
   ]
  },
  {
   "cell_type": "code",
   "execution_count": 1,
   "metadata": {},
   "outputs": [],
   "source": [
    "from alphalib.datasets import load_industry_rets\n",
    "from alphalib.returns import Returns\n",
    "import pandas as pd\n",
    "import numpy as np\n",
    "import matplotlib.pyplot as plt\n",
    "import seaborn as sns\n",
    "from scipy.optimize import minimize"
   ]
  },
  {
   "cell_type": "code",
   "execution_count": 2,
   "metadata": {},
   "outputs": [],
   "source": [
    "df = load_industry_rets()"
   ]
  },
  {
   "cell_type": "code",
   "execution_count": 3,
   "metadata": {},
   "outputs": [
    {
     "data": {
      "text/plain": [
       "Index(['Food', 'Beer', 'Smoke', 'Games', 'Books', 'Hshld', 'Clths', 'Hlth',\n",
       "       'Chems', 'Txtls', 'Cnstr', 'Steel', 'FabPr', 'ElcEq', 'Autos', 'Carry',\n",
       "       'Mines', 'Coal', 'Oil', 'Util', 'Telcm', 'Servs', 'BusEq', 'Paper',\n",
       "       'Trans', 'Whlsl', 'Rtail', 'Meals', 'Fin', 'Other'],\n",
       "      dtype='object')"
      ]
     },
     "execution_count": 3,
     "metadata": {},
     "output_type": "execute_result"
    }
   ],
   "source": [
    "df.columns"
   ]
  },
  {
   "cell_type": "code",
   "execution_count": 4,
   "metadata": {},
   "outputs": [],
   "source": [
    "rets = df[['Games', 'Fin']][\"1996\":\"2000\"]"
   ]
  },
  {
   "cell_type": "code",
   "execution_count": 5,
   "metadata": {},
   "outputs": [
    {
     "data": {
      "text/html": [
       "<div>\n",
       "<style scoped>\n",
       "    .dataframe tbody tr th:only-of-type {\n",
       "        vertical-align: middle;\n",
       "    }\n",
       "\n",
       "    .dataframe tbody tr th {\n",
       "        vertical-align: top;\n",
       "    }\n",
       "\n",
       "    .dataframe thead th {\n",
       "        text-align: right;\n",
       "    }\n",
       "</style>\n",
       "<table border=\"1\" class=\"dataframe\">\n",
       "  <thead>\n",
       "    <tr style=\"text-align: right;\">\n",
       "      <th></th>\n",
       "      <th>Games</th>\n",
       "      <th>Fin</th>\n",
       "    </tr>\n",
       "  </thead>\n",
       "  <tbody>\n",
       "    <tr>\n",
       "      <th>Games</th>\n",
       "      <td>0.003773</td>\n",
       "      <td>0.002416</td>\n",
       "    </tr>\n",
       "    <tr>\n",
       "      <th>Fin</th>\n",
       "      <td>0.002416</td>\n",
       "      <td>0.003982</td>\n",
       "    </tr>\n",
       "  </tbody>\n",
       "</table>\n",
       "</div>"
      ],
      "text/plain": [
       "          Games       Fin\n",
       "Games  0.003773  0.002416\n",
       "Fin    0.002416  0.003982"
      ]
     },
     "execution_count": 5,
     "metadata": {},
     "output_type": "execute_result"
    }
   ],
   "source": [
    "# Var-Covariance matrix\n",
    "varcov = rets.cov()\n",
    "varcov"
   ]
  },
  {
   "cell_type": "code",
   "execution_count": 6,
   "metadata": {},
   "outputs": [],
   "source": [
    "def rand_linspace_weights(n_points):\n",
    "    w = [(x, 1 - x) for x in np.linspace(0, 1, n_points)]\n",
    "    return np.array(w)"
   ]
  },
  {
   "cell_type": "code",
   "execution_count": 7,
   "metadata": {},
   "outputs": [],
   "source": [
    "def rand_weights(n_securities, n_portf=1):\n",
    "    w = np.random.rand(n_portf, n_securities)\n",
    "    return w / np.sum(w, axis=1, keepdims=True)"
   ]
  },
  {
   "cell_type": "code",
   "execution_count": 8,
   "metadata": {},
   "outputs": [
    {
     "data": {
      "text/plain": [
       "array([[0.        , 1.        ],\n",
       "       [0.05263158, 0.94736842],\n",
       "       [0.10526316, 0.89473684],\n",
       "       [0.15789474, 0.84210526],\n",
       "       [0.21052632, 0.78947368],\n",
       "       [0.26315789, 0.73684211],\n",
       "       [0.31578947, 0.68421053],\n",
       "       [0.36842105, 0.63157895],\n",
       "       [0.42105263, 0.57894737],\n",
       "       [0.47368421, 0.52631579],\n",
       "       [0.52631579, 0.47368421],\n",
       "       [0.57894737, 0.42105263],\n",
       "       [0.63157895, 0.36842105],\n",
       "       [0.68421053, 0.31578947],\n",
       "       [0.73684211, 0.26315789],\n",
       "       [0.78947368, 0.21052632],\n",
       "       [0.84210526, 0.15789474],\n",
       "       [0.89473684, 0.10526316],\n",
       "       [0.94736842, 0.05263158],\n",
       "       [1.        , 0.        ]])"
      ]
     },
     "execution_count": 8,
     "metadata": {},
     "output_type": "execute_result"
    }
   ],
   "source": [
    "# Weights\n",
    "weights = rand_linspace_weights(20)\n",
    "weights"
   ]
  },
  {
   "cell_type": "code",
   "execution_count": 9,
   "metadata": {},
   "outputs": [
    {
     "data": {
      "text/plain": [
       "Games    0.005514\n",
       "Fin      0.016943\n",
       "dtype: float64"
      ]
     },
     "execution_count": 9,
     "metadata": {},
     "output_type": "execute_result"
    }
   ],
   "source": [
    "monthly_rets = (1 + rets).product() ** (1 / len(rets)) - 1\n",
    "monthly_rets"
   ]
  },
  {
   "cell_type": "code",
   "execution_count": 10,
   "metadata": {},
   "outputs": [],
   "source": [
    "def portf_return(weights, rets):\n",
    "    return weights @ rets.T"
   ]
  },
  {
   "cell_type": "code",
   "execution_count": 11,
   "metadata": {},
   "outputs": [],
   "source": [
    "def portf_vol(weights, varcov):\n",
    "    return np.sqrt(np.multiply(weights @ varcov, weights).sum(axis=1))"
   ]
  },
  {
   "cell_type": "code",
   "execution_count": 12,
   "metadata": {},
   "outputs": [
    {
     "data": {
      "text/plain": [
       "array([0.0169428 , 0.01634129, 0.01573977, 0.01513825, 0.01453673,\n",
       "       0.01393521, 0.0133337 , 0.01273218, 0.01213066, 0.01152914,\n",
       "       0.01092762, 0.01032611, 0.00972459, 0.00912307, 0.00852155,\n",
       "       0.00792003, 0.00731852, 0.006717  , 0.00611548, 0.00551396])"
      ]
     },
     "execution_count": 12,
     "metadata": {},
     "output_type": "execute_result"
    }
   ],
   "source": [
    "p_rets_2 = portf_return(weights, monthly_rets)\n",
    "p_rets_2"
   ]
  },
  {
   "cell_type": "code",
   "execution_count": 13,
   "metadata": {},
   "outputs": [
    {
     "data": {
      "text/plain": [
       "0     0.063100\n",
       "1     0.061845\n",
       "2     0.060699\n",
       "3     0.059666\n",
       "4     0.058753\n",
       "5     0.057965\n",
       "6     0.057308\n",
       "7     0.056786\n",
       "8     0.056403\n",
       "9     0.056161\n",
       "10    0.056063\n",
       "11    0.056110\n",
       "12    0.056300\n",
       "13    0.056633\n",
       "14    0.057106\n",
       "15    0.057715\n",
       "16    0.058457\n",
       "17    0.059326\n",
       "18    0.060316\n",
       "19    0.061423\n",
       "dtype: float64"
      ]
     },
     "execution_count": 13,
     "metadata": {},
     "output_type": "execute_result"
    }
   ],
   "source": [
    "p_vols_2 = portf_vol(weights, varcov)\n",
    "p_vols_2"
   ]
  },
  {
   "cell_type": "code",
   "execution_count": 14,
   "metadata": {},
   "outputs": [],
   "source": [
    "p_df_2 = pd.DataFrame({'rets': p_rets_2, 'vol': p_vols_2})"
   ]
  },
  {
   "cell_type": "code",
   "execution_count": 15,
   "metadata": {},
   "outputs": [
    {
     "data": {
      "text/plain": [
       "<AxesSubplot:xlabel='vol', ylabel='rets'>"
      ]
     },
     "execution_count": 15,
     "metadata": {},
     "output_type": "execute_result"
    },
    {
     "data": {
      "image/png": "[encoded data removed]",
      "text/plain": [
       "<Figure size 432x288 with 1 Axes>"
      ]
     },
     "metadata": {
      "needs_background": "light"
     },
     "output_type": "display_data"
    }
   ],
   "source": [
    "sns.scatterplot(data=p_df_2, x='vol', y='rets')"
   ]
  },
  {
   "cell_type": "markdown",
   "metadata": {},
   "source": [
    "## N-Assets Efficient Frontier"
   ]
  },
  {
   "cell_type": "markdown",
   "metadata": {},
   "source": [
    "The following code create N random portfolios."
   ]
  },
  {
   "cell_type": "code",
   "execution_count": 16,
   "metadata": {},
   "outputs": [],
   "source": [
    "assets = ['Smoke', 'Rtail', 'Trans']"
   ]
  },
  {
   "cell_type": "code",
   "execution_count": 17,
   "metadata": {},
   "outputs": [
    {
     "data": {
      "text/html": [
       "<div>\n",
       "<style scoped>\n",
       "    .dataframe tbody tr th:only-of-type {\n",
       "        vertical-align: middle;\n",
       "    }\n",
       "\n",
       "    .dataframe tbody tr th {\n",
       "        vertical-align: top;\n",
       "    }\n",
       "\n",
       "    .dataframe thead th {\n",
       "        text-align: right;\n",
       "    }\n",
       "</style>\n",
       "<table border=\"1\" class=\"dataframe\">\n",
       "  <thead>\n",
       "    <tr style=\"text-align: right;\">\n",
       "      <th></th>\n",
       "      <th>Smoke</th>\n",
       "      <th>Rtail</th>\n",
       "      <th>Trans</th>\n",
       "    </tr>\n",
       "  </thead>\n",
       "  <tbody>\n",
       "    <tr>\n",
       "      <th>1996-01</th>\n",
       "      <td>0.0182</td>\n",
       "      <td>-0.0146</td>\n",
       "      <td>-0.0012</td>\n",
       "    </tr>\n",
       "    <tr>\n",
       "      <th>1996-02</th>\n",
       "      <td>0.0318</td>\n",
       "      <td>0.0553</td>\n",
       "      <td>0.0418</td>\n",
       "    </tr>\n",
       "    <tr>\n",
       "      <th>1996-03</th>\n",
       "      <td>-0.0768</td>\n",
       "      <td>0.0825</td>\n",
       "      <td>0.0326</td>\n",
       "    </tr>\n",
       "    <tr>\n",
       "      <th>1996-04</th>\n",
       "      <td>-0.0160</td>\n",
       "      <td>0.0436</td>\n",
       "      <td>0.0265</td>\n",
       "    </tr>\n",
       "    <tr>\n",
       "      <th>1996-05</th>\n",
       "      <td>0.0548</td>\n",
       "      <td>0.0511</td>\n",
       "      <td>-0.0028</td>\n",
       "    </tr>\n",
       "  </tbody>\n",
       "</table>\n",
       "</div>"
      ],
      "text/plain": [
       "          Smoke   Rtail   Trans\n",
       "1996-01  0.0182 -0.0146 -0.0012\n",
       "1996-02  0.0318  0.0553  0.0418\n",
       "1996-03 -0.0768  0.0825  0.0326\n",
       "1996-04 -0.0160  0.0436  0.0265\n",
       "1996-05  0.0548  0.0511 -0.0028"
      ]
     },
     "execution_count": 17,
     "metadata": {},
     "output_type": "execute_result"
    }
   ],
   "source": [
    "s_rets = df[assets]['1996':'2000']\n",
    "s_rets.head()"
   ]
  },
  {
   "cell_type": "code",
   "execution_count": 19,
   "metadata": {},
   "outputs": [],
   "source": [
    "def rand_portfolios(rets, n_portf=1):\n",
    "    n_securities = rets.shape[1]\n",
    "    cov_mat = np.cov(rets.values.T)\n",
    "    er = (1 + rets).product() ** (1 / len(rets)) - 1\n",
    "    \n",
    "    w = rand_weights(n_securities, n_portf)\n",
    "    p_r = portf_return(w, er)\n",
    "    p_sigma = portf_vol(w, cov_mat)\n",
    "    \n",
    "    return pd.DataFrame({'rets': p_r, 'vol': p_sigma})"
   ]
  },
  {
   "cell_type": "code",
   "execution_count": 20,
   "metadata": {},
   "outputs": [],
   "source": [
    "p_df = rand_portfolios(s_rets, 1000)"
   ]
  },
  {
   "cell_type": "code",
   "execution_count": 21,
   "metadata": {},
   "outputs": [
    {
     "data": {
      "text/plain": [
       "<AxesSubplot:xlabel='vol', ylabel='rets'>"
      ]
     },
     "execution_count": 21,
     "metadata": {},
     "output_type": "execute_result"
    },
    {
     "data": {
      "image/png": "[encoded data removed]",
      "text/plain": [
       "<Figure size 432x288 with 1 Axes>"
      ]
     },
     "metadata": {
      "needs_background": "light"
     },
     "output_type": "display_data"
    }
   ],
   "source": [
    "sns.scatterplot(data=p_df, x='vol', y='rets')"
   ]
  },
  {
   "cell_type": "markdown",
   "metadata": {},
   "source": [
    "## Finding min-variance portfolios"
   ]
  },
  {
   "cell_type": "code",
   "execution_count": null,
   "metadata": {},
   "outputs": [],
   "source": []
  }
 ],
 "metadata": {
  "kernelspec": {
   "display_name": "Python 3",
   "language": "python",
   "name": "python3"
  },
  "language_info": {
   "codemirror_mode": {
    "name": "ipython",
    "version": 3
   },
   "file_extension": ".py",
   "mimetype": "text/x-python",
   "name": "python",
   "nbconvert_exporter": "python",
   "pygments_lexer": "ipython3",
   "version": "3.8.5"
  }
 },
 "nbformat": 4,
 "nbformat_minor": 4
}
